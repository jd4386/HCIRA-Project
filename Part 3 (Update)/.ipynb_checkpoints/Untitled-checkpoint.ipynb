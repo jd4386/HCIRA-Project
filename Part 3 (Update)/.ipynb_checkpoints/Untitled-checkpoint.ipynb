{
 "cells": [
  {
   "cell_type": "code",
   "execution_count": 5,
   "id": "828b1c0d",
   "metadata": {},
   "outputs": [],
   "source": [
    "path = 'xml_logs/s02/fast/arrow01.xml'"
   ]
  },
  {
   "cell_type": "code",
   "execution_count": 6,
   "id": "037858d7",
   "metadata": {},
   "outputs": [],
   "source": [
    "import xml.etree.ElementTree as ET"
   ]
  },
  {
   "cell_type": "code",
   "execution_count": 7,
   "id": "5ba92014",
   "metadata": {},
   "outputs": [],
   "source": [
    "tree = ET.parse(path)"
   ]
  },
  {
   "cell_type": "code",
   "execution_count": 8,
   "id": "49595b5b",
   "metadata": {},
   "outputs": [],
   "source": [
    "root = tree.getroot()"
   ]
  },
  {
   "cell_type": "code",
   "execution_count": 10,
   "id": "e6242c9b",
   "metadata": {},
   "outputs": [
    {
     "data": {
      "text/plain": [
       "'Gesture'"
      ]
     },
     "execution_count": 10,
     "metadata": {},
     "output_type": "execute_result"
    }
   ],
   "source": [
    "root.tag"
   ]
  },
  {
   "cell_type": "code",
   "execution_count": 13,
   "id": "5a5c1354",
   "metadata": {},
   "outputs": [
    {
     "data": {
      "text/plain": [
       "{'Name': 'arrow01',\n",
       " 'Subject': '2',\n",
       " 'Speed': 'fast',\n",
       " 'Number': '1',\n",
       " 'NumPts': '66',\n",
       " 'Millseconds': '1036',\n",
       " 'AppName': 'Gestures',\n",
       " 'AppVer': '3.5.0.0',\n",
       " 'Date': 'Monday, March 05, 2007',\n",
       " 'TimeOfDay': '9:12:50 PM'}"
      ]
     },
     "execution_count": 13,
     "metadata": {},
     "output_type": "execute_result"
    }
   ],
   "source": [
    "root.attrib"
   ]
  },
  {
   "cell_type": "code",
   "execution_count": 15,
   "id": "b03b134c",
   "metadata": {},
   "outputs": [
    {
     "name": "stdout",
     "output_type": "stream",
     "text": [
      "Point {'X': '66', 'Y': '252', 'T': '11462293'}\n",
      "Point {'X': '68', 'Y': '249', 'T': '11462310'}\n",
      "Point {'X': '70', 'Y': '248', 'T': '11462318'}\n",
      "Point {'X': '72', 'Y': '246', 'T': '11462327'}\n",
      "Point {'X': '76', 'Y': '244', 'T': '11462335'}\n",
      "Point {'X': '79', 'Y': '241', 'T': '11462343'}\n",
      "Point {'X': '83', 'Y': '237', 'T': '11462351'}\n",
      "Point {'X': '85', 'Y': '236', 'T': '11462358'}\n",
      "Point {'X': '89', 'Y': '232', 'T': '11462365'}\n",
      "Point {'X': '93', 'Y': '229', 'T': '11462372'}\n",
      "Point {'X': '98', 'Y': '225', 'T': '11462379'}\n",
      "Point {'X': '101', 'Y': '223', 'T': '11462387'}\n",
      "Point {'X': '104', 'Y': '221', 'T': '11462388'}\n",
      "Point {'X': '110', 'Y': '216', 'T': '11462396'}\n",
      "Point {'X': '115', 'Y': '212', 'T': '11462404'}\n",
      "Point {'X': '121', 'Y': '209', 'T': '11462412'}\n",
      "Point {'X': '126', 'Y': '204', 'T': '11462420'}\n",
      "Point {'X': '131', 'Y': '201', 'T': '11462429'}\n",
      "Point {'X': '136', 'Y': '196', 'T': '11462438'}\n",
      "Point {'X': '140', 'Y': '193', 'T': '11462446'}\n",
      "Point {'X': '143', 'Y': '191', 'T': '11462447'}\n",
      "Point {'X': '147', 'Y': '188', 'T': '11462457'}\n",
      "Point {'X': '149', 'Y': '187', 'T': '11462467'}\n",
      "Point {'X': '152', 'Y': '184', 'T': '11462468'}\n",
      "Point {'X': '156', 'Y': '181', 'T': '11462479'}\n",
      "Point {'X': '158', 'Y': '178', 'T': '11462490'}\n",
      "Point {'X': '161', 'Y': '176', 'T': '11462501'}\n",
      "Point {'X': '163', 'Y': '175', 'T': '11462512'}\n",
      "Point {'X': '164', 'Y': '172', 'T': '11462524'}\n",
      "Point {'X': '166', 'Y': '170', 'T': '11462542'}\n",
      "Point {'X': '167', 'Y': '168', 'T': '11462591'}\n",
      "Point {'X': '165', 'Y': '167', 'T': '11462648'}\n",
      "Point {'X': '162', 'Y': '166', 'T': '11462661'}\n",
      "Point {'X': '160', 'Y': '166', 'T': '11462674'}\n",
      "Point {'X': '154', 'Y': '168', 'T': '11462686'}\n",
      "Point {'X': '148', 'Y': '169', 'T': '11462699'}\n",
      "Point {'X': '146', 'Y': '170', 'T': '11462700'}\n",
      "Point {'X': '140', 'Y': '172', 'T': '11462714'}\n",
      "Point {'X': '134', 'Y': '173', 'T': '11462727'}\n",
      "Point {'X': '131', 'Y': '173', 'T': '11462740'}\n",
      "Point {'X': '128', 'Y': '174', 'T': '11462741'}\n",
      "Point {'X': '126', 'Y': '175', 'T': '11462755'}\n",
      "Point {'X': '122', 'Y': '176', 'T': '11462769'}\n",
      "Point {'X': '124', 'Y': '175', 'T': '11462832'}\n",
      "Point {'X': '126', 'Y': '175', 'T': '11462846'}\n",
      "Point {'X': '132', 'Y': '174', 'T': '11462861'}\n",
      "Point {'X': '137', 'Y': '172', 'T': '11462875'}\n",
      "Point {'X': '143', 'Y': '170', 'T': '11462890'}\n",
      "Point {'X': '148', 'Y': '170', 'T': '11462905'}\n",
      "Point {'X': '152', 'Y': '170', 'T': '11462921'}\n",
      "Point {'X': '156', 'Y': '170', 'T': '11462937'}\n",
      "Point {'X': '158', 'Y': '169', 'T': '11462952'}\n",
      "Point {'X': '161', 'Y': '169', 'T': '11462968'}\n",
      "Point {'X': '163', 'Y': '169', 'T': '11462984'}\n",
      "Point {'X': '164', 'Y': '171', 'T': '11463024'}\n",
      "Point {'X': '166', 'Y': '174', 'T': '11463116'}\n",
      "Point {'X': '166', 'Y': '176', 'T': '11463133'}\n",
      "Point {'X': '166', 'Y': '179', 'T': '11463150'}\n",
      "Point {'X': '166', 'Y': '184', 'T': '11463167'}\n",
      "Point {'X': '166', 'Y': '187', 'T': '11463168'}\n",
      "Point {'X': '167', 'Y': '192', 'T': '11463186'}\n",
      "Point {'X': '166', 'Y': '202', 'T': '11463207'}\n",
      "Point {'X': '166', 'Y': '209', 'T': '11463227'}\n",
      "Point {'X': '166', 'Y': '212', 'T': '11463247'}\n",
      "Point {'X': '166', 'Y': '214', 'T': '11463289'}\n",
      "Point {'X': '166', 'Y': '212', 'T': '11463329'}\n"
     ]
    }
   ],
   "source": [
    "for child in root:\n",
    "    print(child.tag, child.attrib)"
   ]
  },
  {
   "cell_type": "code",
   "execution_count": 28,
   "id": "c2cdd8a4",
   "metadata": {},
   "outputs": [
    {
     "data": {
      "text/plain": [
       "'66'"
      ]
     },
     "execution_count": 28,
     "metadata": {},
     "output_type": "execute_result"
    }
   ],
   "source": [
    "root[0].attrib['X']"
   ]
  },
  {
   "cell_type": "code",
   "execution_count": 32,
   "id": "3356ce23",
   "metadata": {},
   "outputs": [],
   "source": [
    "getPointsFromRoot = lambda gesture : {gesture.attrib['Name']: [[point.attrib['X'], point.attrib['Y']] for point in gesture]}"
   ]
  },
  {
   "cell_type": "code",
   "execution_count": 33,
   "id": "b408f3f6",
   "metadata": {},
   "outputs": [
    {
     "data": {
      "text/plain": [
       "{'arrow01': [['66', '252'],\n",
       "  ['68', '249'],\n",
       "  ['70', '248'],\n",
       "  ['72', '246'],\n",
       "  ['76', '244'],\n",
       "  ['79', '241'],\n",
       "  ['83', '237'],\n",
       "  ['85', '236'],\n",
       "  ['89', '232'],\n",
       "  ['93', '229'],\n",
       "  ['98', '225'],\n",
       "  ['101', '223'],\n",
       "  ['104', '221'],\n",
       "  ['110', '216'],\n",
       "  ['115', '212'],\n",
       "  ['121', '209'],\n",
       "  ['126', '204'],\n",
       "  ['131', '201'],\n",
       "  ['136', '196'],\n",
       "  ['140', '193'],\n",
       "  ['143', '191'],\n",
       "  ['147', '188'],\n",
       "  ['149', '187'],\n",
       "  ['152', '184'],\n",
       "  ['156', '181'],\n",
       "  ['158', '178'],\n",
       "  ['161', '176'],\n",
       "  ['163', '175'],\n",
       "  ['164', '172'],\n",
       "  ['166', '170'],\n",
       "  ['167', '168'],\n",
       "  ['165', '167'],\n",
       "  ['162', '166'],\n",
       "  ['160', '166'],\n",
       "  ['154', '168'],\n",
       "  ['148', '169'],\n",
       "  ['146', '170'],\n",
       "  ['140', '172'],\n",
       "  ['134', '173'],\n",
       "  ['131', '173'],\n",
       "  ['128', '174'],\n",
       "  ['126', '175'],\n",
       "  ['122', '176'],\n",
       "  ['124', '175'],\n",
       "  ['126', '175'],\n",
       "  ['132', '174'],\n",
       "  ['137', '172'],\n",
       "  ['143', '170'],\n",
       "  ['148', '170'],\n",
       "  ['152', '170'],\n",
       "  ['156', '170'],\n",
       "  ['158', '169'],\n",
       "  ['161', '169'],\n",
       "  ['163', '169'],\n",
       "  ['164', '171'],\n",
       "  ['166', '174'],\n",
       "  ['166', '176'],\n",
       "  ['166', '179'],\n",
       "  ['166', '184'],\n",
       "  ['166', '187'],\n",
       "  ['167', '192'],\n",
       "  ['166', '202'],\n",
       "  ['166', '209'],\n",
       "  ['166', '212'],\n",
       "  ['166', '214'],\n",
       "  ['166', '212']]}"
      ]
     },
     "execution_count": 33,
     "metadata": {},
     "output_type": "execute_result"
    }
   ],
   "source": [
    "getPointsFromRoot(root)"
   ]
  },
  {
   "cell_type": "code",
   "execution_count": 34,
   "id": "35b0638f",
   "metadata": {},
   "outputs": [],
   "source": [
    "import os"
   ]
  },
  {
   "cell_type": "code",
   "execution_count": 43,
   "id": "f07b9904",
   "metadata": {},
   "outputs": [
    {
     "data": {
      "text/plain": [
       "['./xml_logs',\n",
       " './xml_logs/s05',\n",
       " './xml_logs/s05/slow',\n",
       " './xml_logs/s05/medium',\n",
       " './xml_logs/s05/fast',\n",
       " './xml_logs/s02',\n",
       " './xml_logs/s02/slow',\n",
       " './xml_logs/s02/medium',\n",
       " './xml_logs/s02/fast',\n",
       " './xml_logs/s03',\n",
       " './xml_logs/s03/slow',\n",
       " './xml_logs/s03/medium',\n",
       " './xml_logs/s03/fast',\n",
       " './xml_logs/s04',\n",
       " './xml_logs/s04/slow',\n",
       " './xml_logs/s04/medium',\n",
       " './xml_logs/s04/fast',\n",
       " './xml_logs/s10',\n",
       " './xml_logs/s10/slow',\n",
       " './xml_logs/s10/medium',\n",
       " './xml_logs/s10/fast',\n",
       " './xml_logs/s11',\n",
       " './xml_logs/s11/slow',\n",
       " './xml_logs/s11/medium',\n",
       " './xml_logs/s11/fast',\n",
       " './xml_logs/s06',\n",
       " './xml_logs/s06/slow',\n",
       " './xml_logs/s06/medium',\n",
       " './xml_logs/s06/fast',\n",
       " './xml_logs/s08',\n",
       " './xml_logs/s08/slow',\n",
       " './xml_logs/s08/medium',\n",
       " './xml_logs/s08/fast',\n",
       " './xml_logs/s09',\n",
       " './xml_logs/s09/slow',\n",
       " './xml_logs/s09/medium',\n",
       " './xml_logs/s09/fast',\n",
       " './xml_logs/s07',\n",
       " './xml_logs/s07/slow',\n",
       " './xml_logs/s07/medium',\n",
       " './xml_logs/s07/fast',\n",
       " './xml_logs/s01 (pilot)',\n",
       " './xml_logs/s01 (pilot)/slow',\n",
       " './xml_logs/s01 (pilot)/medium',\n",
       " './xml_logs/s01 (pilot)/fast']"
      ]
     },
     "execution_count": 43,
     "metadata": {},
     "output_type": "execute_result"
    }
   ],
   "source": [
    "[x[0] for x in os.walk('./xml_logs')]"
   ]
  },
  {
   "cell_type": "code",
   "execution_count": 51,
   "id": "b0189e3a",
   "metadata": {},
   "outputs": [
    {
     "data": {
      "text/plain": [
       "['slow', 'medium', 'fast']"
      ]
     },
     "execution_count": 51,
     "metadata": {},
     "output_type": "execute_result"
    }
   ],
   "source": [
    "next(os.walk('xml_logs/s02'))[1]"
   ]
  },
  {
   "cell_type": "code",
   "execution_count": 55,
   "id": "3608a025",
   "metadata": {},
   "outputs": [
    {
     "data": {
      "text/plain": [
       "['arrow01.xml',\n",
       " 'arrow02.xml',\n",
       " 'arrow03.xml',\n",
       " 'arrow04.xml',\n",
       " 'arrow05.xml',\n",
       " 'arrow06.xml',\n",
       " 'arrow07.xml',\n",
       " 'arrow08.xml',\n",
       " 'arrow09.xml',\n",
       " 'arrow10.xml',\n",
       " 'caret01.xml',\n",
       " 'caret02.xml',\n",
       " 'caret03.xml',\n",
       " 'caret04.xml',\n",
       " 'caret05.xml',\n",
       " 'caret06.xml',\n",
       " 'caret07.xml',\n",
       " 'caret08.xml',\n",
       " 'caret09.xml',\n",
       " 'caret10.xml',\n",
       " 'check01.xml',\n",
       " 'check02.xml',\n",
       " 'check03.xml',\n",
       " 'check04.xml',\n",
       " 'check05.xml',\n",
       " 'check06.xml',\n",
       " 'check07.xml',\n",
       " 'check08.xml',\n",
       " 'check09.xml',\n",
       " 'check10.xml',\n",
       " 'circle01.xml',\n",
       " 'circle02.xml',\n",
       " 'circle03.xml',\n",
       " 'circle04.xml',\n",
       " 'circle05.xml',\n",
       " 'circle06.xml',\n",
       " 'circle07.xml',\n",
       " 'circle08.xml',\n",
       " 'circle09.xml',\n",
       " 'circle10.xml',\n",
       " 'delete_mark01.xml',\n",
       " 'delete_mark02.xml',\n",
       " 'delete_mark03.xml',\n",
       " 'delete_mark04.xml',\n",
       " 'delete_mark05.xml',\n",
       " 'delete_mark06.xml',\n",
       " 'delete_mark07.xml',\n",
       " 'delete_mark08.xml',\n",
       " 'delete_mark09.xml',\n",
       " 'delete_mark10.xml',\n",
       " 'left_curly_brace01.xml',\n",
       " 'left_curly_brace02.xml',\n",
       " 'left_curly_brace03.xml',\n",
       " 'left_curly_brace04.xml',\n",
       " 'left_curly_brace05.xml',\n",
       " 'left_curly_brace06.xml',\n",
       " 'left_curly_brace07.xml',\n",
       " 'left_curly_brace08.xml',\n",
       " 'left_curly_brace09.xml',\n",
       " 'left_curly_brace10.xml',\n",
       " 'left_sq_bracket01.xml',\n",
       " 'left_sq_bracket02.xml',\n",
       " 'left_sq_bracket03.xml',\n",
       " 'left_sq_bracket04.xml',\n",
       " 'left_sq_bracket05.xml',\n",
       " 'left_sq_bracket06.xml',\n",
       " 'left_sq_bracket07.xml',\n",
       " 'left_sq_bracket08.xml',\n",
       " 'left_sq_bracket09.xml',\n",
       " 'left_sq_bracket10.xml',\n",
       " 'pigtail01.xml',\n",
       " 'pigtail02.xml',\n",
       " 'pigtail03.xml',\n",
       " 'pigtail04.xml',\n",
       " 'pigtail05.xml',\n",
       " 'pigtail06.xml',\n",
       " 'pigtail07.xml',\n",
       " 'pigtail08.xml',\n",
       " 'pigtail09.xml',\n",
       " 'pigtail10.xml',\n",
       " 'question_mark01.xml',\n",
       " 'question_mark02.xml',\n",
       " 'question_mark03.xml',\n",
       " 'question_mark04.xml',\n",
       " 'question_mark05.xml',\n",
       " 'question_mark06.xml',\n",
       " 'question_mark07.xml',\n",
       " 'question_mark08.xml',\n",
       " 'question_mark09.xml',\n",
       " 'question_mark10.xml',\n",
       " 'rectangle01.xml',\n",
       " 'rectangle02.xml',\n",
       " 'rectangle03.xml',\n",
       " 'rectangle04.xml',\n",
       " 'rectangle05.xml',\n",
       " 'rectangle06.xml',\n",
       " 'rectangle07.xml',\n",
       " 'rectangle08.xml',\n",
       " 'rectangle09.xml',\n",
       " 'rectangle10.xml',\n",
       " 'right_curly_brace01.xml',\n",
       " 'right_curly_brace02.xml',\n",
       " 'right_curly_brace03.xml',\n",
       " 'right_curly_brace04.xml',\n",
       " 'right_curly_brace05.xml',\n",
       " 'right_curly_brace06.xml',\n",
       " 'right_curly_brace07.xml',\n",
       " 'right_curly_brace08.xml',\n",
       " 'right_curly_brace09.xml',\n",
       " 'right_curly_brace10.xml',\n",
       " 'right_sq_bracket01.xml',\n",
       " 'right_sq_bracket02.xml',\n",
       " 'right_sq_bracket03.xml',\n",
       " 'right_sq_bracket04.xml',\n",
       " 'right_sq_bracket05.xml',\n",
       " 'right_sq_bracket06.xml',\n",
       " 'right_sq_bracket07.xml',\n",
       " 'right_sq_bracket08.xml',\n",
       " 'right_sq_bracket09.xml',\n",
       " 'right_sq_bracket10.xml',\n",
       " 'star01.xml',\n",
       " 'star02.xml',\n",
       " 'star03.xml',\n",
       " 'star04.xml',\n",
       " 'star05.xml',\n",
       " 'star06.xml',\n",
       " 'star07.xml',\n",
       " 'star08.xml',\n",
       " 'star09.xml',\n",
       " 'star10.xml',\n",
       " 'triangle01.xml',\n",
       " 'triangle02.xml',\n",
       " 'triangle03.xml',\n",
       " 'triangle04.xml',\n",
       " 'triangle05.xml',\n",
       " 'triangle06.xml',\n",
       " 'triangle07.xml',\n",
       " 'triangle08.xml',\n",
       " 'triangle09.xml',\n",
       " 'triangle10.xml',\n",
       " 'v01.xml',\n",
       " 'v02.xml',\n",
       " 'v03.xml',\n",
       " 'v04.xml',\n",
       " 'v05.xml',\n",
       " 'v06.xml',\n",
       " 'v07.xml',\n",
       " 'v08.xml',\n",
       " 'v09.xml',\n",
       " 'v10.xml',\n",
       " 'x01.xml',\n",
       " 'x02.xml',\n",
       " 'x03.xml',\n",
       " 'x04.xml',\n",
       " 'x05.xml',\n",
       " 'x06.xml',\n",
       " 'x07.xml',\n",
       " 'x08.xml',\n",
       " 'x09.xml',\n",
       " 'x10.xml']"
      ]
     },
     "execution_count": 55,
     "metadata": {},
     "output_type": "execute_result"
    }
   ],
   "source": [
    "sorted(os.listdir('xml_logs/s02/fast'))"
   ]
  },
  {
   "cell_type": "code",
   "execution_count": 50,
   "id": "7c8975d7",
   "metadata": {},
   "outputs": [
    {
     "data": {
      "text/plain": [
       "'01'"
      ]
     },
     "execution_count": 50,
     "metadata": {},
     "output_type": "execute_result"
    }
   ],
   "source": [
    "'1'.zfill(2)"
   ]
  },
  {
   "cell_type": "code",
   "execution_count": null,
   "id": "ea04dbf2",
   "metadata": {},
   "outputs": [],
   "source": [
    "path = 'xml_logs'\n",
    "for U in range(2, 12):\n",
    "    for speed in ['slow', 'medium', 'fast']:\n",
    "        "
   ]
  }
 ],
 "metadata": {
  "kernelspec": {
   "display_name": "Python 3 (ipykernel)",
   "language": "python",
   "name": "python3"
  },
  "language_info": {
   "codemirror_mode": {
    "name": "ipython",
    "version": 3
   },
   "file_extension": ".py",
   "mimetype": "text/x-python",
   "name": "python",
   "nbconvert_exporter": "python",
   "pygments_lexer": "ipython3",
   "version": "3.11.1"
  }
 },
 "nbformat": 4,
 "nbformat_minor": 5
}
