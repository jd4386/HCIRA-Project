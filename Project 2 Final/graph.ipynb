{
 "cells": [
  {
   "cell_type": "code",
   "execution_count": 1,
   "metadata": {},
   "outputs": [],
   "source": [
    "path_unistroke = '/Users/jagan/Downloads/HCIRA Project/Project 2/HCIRA-Proj2-logfile-unistroke.csv'\n",
    "path_new_unistroke = '/Users/jagan/Downloads/HCIRA Project/Project 2/HCIRA-Proj2-logfile-new-unistroke.csv'\n",
    "path_multistroke = '/Users/jagan/Downloads/HCIRA Project/Project 2/HCIRA-Proj2-logfile-mmg.csv'\n",
    "path_new_multistroke = '/Users/jagan/Downloads/HCIRA Project/Project 2/HCIRA-Proj2-logfile-new.csv'"
   ]
  },
  {
   "cell_type": "code",
   "execution_count": 2,
   "metadata": {},
   "outputs": [],
   "source": [
    "import pandas as pd\n",
    "import numpy as np\n",
    "import matplotlib.pyplot as plt\n",
    "import seaborn as sns"
   ]
  },
  {
   "cell_type": "code",
   "execution_count": 18,
   "metadata": {},
   "outputs": [
    {
     "data": {
      "text/html": [
       "<div>\n",
       "<style scoped>\n",
       "    .dataframe tbody tr th:only-of-type {\n",
       "        vertical-align: middle;\n",
       "    }\n",
       "\n",
       "    .dataframe tbody tr th {\n",
       "        vertical-align: top;\n",
       "    }\n",
       "\n",
       "    .dataframe thead th {\n",
       "        text-align: right;\n",
       "    }\n",
       "</style>\n",
       "<table border=\"1\" class=\"dataframe\">\n",
       "  <thead>\n",
       "    <tr style=\"text-align: right;\">\n",
       "      <th></th>\n",
       "      <th>0</th>\n",
       "      <th>1</th>\n",
       "    </tr>\n",
       "  </thead>\n",
       "  <tbody>\n",
       "    <tr>\n",
       "      <th>0</th>\n",
       "      <td>User(User06) - Gesture(circle) - No. of traini...</td>\n",
       "      <td>1.000000</td>\n",
       "    </tr>\n",
       "    <tr>\n",
       "      <th>1</th>\n",
       "      <td>User(User06) - Gesture(question_mark) - No. of...</td>\n",
       "      <td>1.000000</td>\n",
       "    </tr>\n",
       "    <tr>\n",
       "      <th>2</th>\n",
       "      <td>User(User06) - Gesture(left_curly_brace) - No....</td>\n",
       "      <td>1.000000</td>\n",
       "    </tr>\n",
       "    <tr>\n",
       "      <th>3</th>\n",
       "      <td>User(User06) - Gesture(check) - No. of trainin...</td>\n",
       "      <td>0.000000</td>\n",
       "    </tr>\n",
       "    <tr>\n",
       "      <th>4</th>\n",
       "      <td>User(User06) - Gesture(x) - No. of training ex...</td>\n",
       "      <td>1.000000</td>\n",
       "    </tr>\n",
       "    <tr>\n",
       "      <th>...</th>\n",
       "      <td>...</td>\n",
       "      <td>...</td>\n",
       "    </tr>\n",
       "    <tr>\n",
       "      <th>1436</th>\n",
       "      <td>User(User10) - Gesture(caret) - No. of trainin...</td>\n",
       "      <td>1.000000</td>\n",
       "    </tr>\n",
       "    <tr>\n",
       "      <th>1437</th>\n",
       "      <td>User(User10) - Gesture(left_sq_bracket) - No. ...</td>\n",
       "      <td>1.000000</td>\n",
       "    </tr>\n",
       "    <tr>\n",
       "      <th>1438</th>\n",
       "      <td>User(User10) - Gesture(pigtail) - No. of train...</td>\n",
       "      <td>1.000000</td>\n",
       "    </tr>\n",
       "    <tr>\n",
       "      <th>1439</th>\n",
       "      <td>User(User10) - Gesture(v) - No. of training ex...</td>\n",
       "      <td>1.000000</td>\n",
       "    </tr>\n",
       "    <tr>\n",
       "      <th>1440</th>\n",
       "      <td>Total average accuracy</td>\n",
       "      <td>0.948611</td>\n",
       "    </tr>\n",
       "  </tbody>\n",
       "</table>\n",
       "<p>1441 rows × 2 columns</p>\n",
       "</div>"
      ],
      "text/plain": [
       "                                                      0         1\n",
       "0     User(User06) - Gesture(circle) - No. of traini...  1.000000\n",
       "1     User(User06) - Gesture(question_mark) - No. of...  1.000000\n",
       "2     User(User06) - Gesture(left_curly_brace) - No....  1.000000\n",
       "3     User(User06) - Gesture(check) - No. of trainin...  0.000000\n",
       "4     User(User06) - Gesture(x) - No. of training ex...  1.000000\n",
       "...                                                 ...       ...\n",
       "1436  User(User10) - Gesture(caret) - No. of trainin...  1.000000\n",
       "1437  User(User10) - Gesture(left_sq_bracket) - No. ...  1.000000\n",
       "1438  User(User10) - Gesture(pigtail) - No. of train...  1.000000\n",
       "1439  User(User10) - Gesture(v) - No. of training ex...  1.000000\n",
       "1440                             Total average accuracy  0.948611\n",
       "\n",
       "[1441 rows x 2 columns]"
      ]
     },
     "execution_count": 18,
     "metadata": {},
     "output_type": "execute_result"
    }
   ],
   "source": [
    "df = pd.read_csv(path_unistroke, skiprows=1445, header=None)\n",
    "df"
   ]
  },
  {
   "cell_type": "code",
   "execution_count": 19,
   "metadata": {},
   "outputs": [],
   "source": [
    "lst = df.values.tolist()"
   ]
  },
  {
   "cell_type": "code",
   "execution_count": 23,
   "metadata": {},
   "outputs": [],
   "source": [
    "accuracies = [[i[0].split('(')[-1][:-1], i[1]] for i in lst]\n",
    "# accuracies "
   ]
  },
  {
   "cell_type": "code",
   "execution_count": 26,
   "metadata": {},
   "outputs": [],
   "source": [
    "final = [0] * 9\n",
    "for i in accuracies:\n",
    "    try:\n",
    "        final[int(i[0])-1] += float(i[1])\n",
    "    except ValueError:\n",
    "        pass"
   ]
  },
  {
   "cell_type": "code",
   "execution_count": 27,
   "metadata": {},
   "outputs": [],
   "source": [
    "final_unistroke = [final[i]/160 for i in range(9)]"
   ]
  },
  {
   "cell_type": "code",
   "execution_count": 28,
   "metadata": {},
   "outputs": [
    {
     "data": {
      "text/plain": [
       "[0.875, 0.95, 0.93125, 0.95625, 0.975, 0.975, 0.95625, 0.95, 0.96875]"
      ]
     },
     "execution_count": 28,
     "metadata": {},
     "output_type": "execute_result"
    }
   ],
   "source": [
    "final_unistroke"
   ]
  },
  {
   "cell_type": "code",
   "execution_count": 40,
   "metadata": {},
   "outputs": [
    {
     "data": {
      "text/html": [
       "<div>\n",
       "<style scoped>\n",
       "    .dataframe tbody tr th:only-of-type {\n",
       "        vertical-align: middle;\n",
       "    }\n",
       "\n",
       "    .dataframe tbody tr th {\n",
       "        vertical-align: top;\n",
       "    }\n",
       "\n",
       "    .dataframe thead th {\n",
       "        text-align: right;\n",
       "    }\n",
       "</style>\n",
       "<table border=\"1\" class=\"dataframe\">\n",
       "  <thead>\n",
       "    <tr style=\"text-align: right;\">\n",
       "      <th></th>\n",
       "      <th>0</th>\n",
       "      <th>1</th>\n",
       "    </tr>\n",
       "  </thead>\n",
       "  <tbody>\n",
       "    <tr>\n",
       "      <th>0</th>\n",
       "      <td>User(User06) - Gesture(circle) - No. of traini...</td>\n",
       "      <td>1.0</td>\n",
       "    </tr>\n",
       "    <tr>\n",
       "      <th>1</th>\n",
       "      <td>User(User06) - Gesture(zag) - No. of training ...</td>\n",
       "      <td>1.0</td>\n",
       "    </tr>\n",
       "    <tr>\n",
       "      <th>2</th>\n",
       "      <td>User(User06) - Gesture(left_curly_brace) - No....</td>\n",
       "      <td>0.0</td>\n",
       "    </tr>\n",
       "    <tr>\n",
       "      <th>3</th>\n",
       "      <td>User(User06) - Gesture(check) - No. of trainin...</td>\n",
       "      <td>1.0</td>\n",
       "    </tr>\n",
       "    <tr>\n",
       "      <th>4</th>\n",
       "      <td>User(User06) - Gesture(x) - No. of training ex...</td>\n",
       "      <td>1.0</td>\n",
       "    </tr>\n",
       "    <tr>\n",
       "      <th>...</th>\n",
       "      <td>...</td>\n",
       "      <td>...</td>\n",
       "    </tr>\n",
       "    <tr>\n",
       "      <th>859</th>\n",
       "      <td>User(User03) - Gesture(star) - No. of training...</td>\n",
       "      <td>1.0</td>\n",
       "    </tr>\n",
       "    <tr>\n",
       "      <th>860</th>\n",
       "      <td>User(User03) - Gesture(caret) - No. of trainin...</td>\n",
       "      <td>0.0</td>\n",
       "    </tr>\n",
       "    <tr>\n",
       "      <th>861</th>\n",
       "      <td>User(User03) - Gesture(left_sq_bracket) - No. ...</td>\n",
       "      <td>1.0</td>\n",
       "    </tr>\n",
       "    <tr>\n",
       "      <th>862</th>\n",
       "      <td>User(User03) - Gesture(pigtail) - No. of train...</td>\n",
       "      <td>1.0</td>\n",
       "    </tr>\n",
       "    <tr>\n",
       "      <th>863</th>\n",
       "      <td>User(User03) - Gesture(v) - No. of training ex...</td>\n",
       "      <td>1.0</td>\n",
       "    </tr>\n",
       "  </tbody>\n",
       "</table>\n",
       "<p>864 rows × 2 columns</p>\n",
       "</div>"
      ],
      "text/plain": [
       "                                                     0    1\n",
       "0    User(User06) - Gesture(circle) - No. of traini...  1.0\n",
       "1    User(User06) - Gesture(zag) - No. of training ...  1.0\n",
       "2    User(User06) - Gesture(left_curly_brace) - No....  0.0\n",
       "3    User(User06) - Gesture(check) - No. of trainin...  1.0\n",
       "4    User(User06) - Gesture(x) - No. of training ex...  1.0\n",
       "..                                                 ...  ...\n",
       "859  User(User03) - Gesture(star) - No. of training...  1.0\n",
       "860  User(User03) - Gesture(caret) - No. of trainin...  0.0\n",
       "861  User(User03) - Gesture(left_sq_bracket) - No. ...  1.0\n",
       "862  User(User03) - Gesture(pigtail) - No. of train...  1.0\n",
       "863  User(User03) - Gesture(v) - No. of training ex...  1.0\n",
       "\n",
       "[864 rows x 2 columns]"
      ]
     },
     "execution_count": 40,
     "metadata": {},
     "output_type": "execute_result"
    }
   ],
   "source": [
    "df = pd.read_csv(path_new_unistroke, skiprows=869, header=None)[:-1]\n",
    "df"
   ]
  },
  {
   "cell_type": "code",
   "execution_count": 43,
   "metadata": {},
   "outputs": [],
   "source": [
    "lst = df.values.tolist()\n",
    "accuracies = [[i[0].split('(')[-1][:-1], i[1]] for i in lst]\n",
    "final = [0] * 9\n",
    "for i in accuracies:\n",
    "    final[int(i[0])-1] += float(i[1])\n",
    "final_new_unistroke = [final[i]/96 for i in range(9)]"
   ]
  },
  {
   "cell_type": "code",
   "execution_count": 44,
   "metadata": {},
   "outputs": [
    {
     "data": {
      "text/plain": [
       "[0.7708333333333334,\n",
       " 0.84375,\n",
       " 0.875,\n",
       " 0.8541666666666666,\n",
       " 0.8125,\n",
       " 0.8645833333333334,\n",
       " 0.84375,\n",
       " 0.8958333333333334,\n",
       " 0.90625]"
      ]
     },
     "execution_count": 44,
     "metadata": {},
     "output_type": "execute_result"
    }
   ],
   "source": [
    "final_new_unistroke"
   ]
  },
  {
   "cell_type": "code",
   "execution_count": 82,
   "metadata": {},
   "outputs": [
    {
     "data": {
      "text/html": [
       "<div>\n",
       "<style scoped>\n",
       "    .dataframe tbody tr th:only-of-type {\n",
       "        vertical-align: middle;\n",
       "    }\n",
       "\n",
       "    .dataframe tbody tr th {\n",
       "        vertical-align: top;\n",
       "    }\n",
       "\n",
       "    .dataframe thead th {\n",
       "        text-align: right;\n",
       "    }\n",
       "</style>\n",
       "<table border=\"1\" class=\"dataframe\">\n",
       "  <thead>\n",
       "    <tr style=\"text-align: right;\">\n",
       "      <th></th>\n",
       "      <th>0</th>\n",
       "      <th>1</th>\n",
       "    </tr>\n",
       "  </thead>\n",
       "  <tbody>\n",
       "    <tr>\n",
       "      <th>0</th>\n",
       "      <td>User(88-stylus-MEDIUM) - Gesture(T) - No. of t...</td>\n",
       "      <td>0.0</td>\n",
       "    </tr>\n",
       "    <tr>\n",
       "      <th>1</th>\n",
       "      <td>User(88-stylus-MEDIUM) - Gesture(line) - No. o...</td>\n",
       "      <td>0.4</td>\n",
       "    </tr>\n",
       "    <tr>\n",
       "      <th>2</th>\n",
       "      <td>User(88-stylus-MEDIUM) - Gesture(arrowhead) - ...</td>\n",
       "      <td>0.9</td>\n",
       "    </tr>\n",
       "    <tr>\n",
       "      <th>3</th>\n",
       "      <td>User(88-stylus-MEDIUM) - Gesture(P) - No. of t...</td>\n",
       "      <td>0.1</td>\n",
       "    </tr>\n",
       "    <tr>\n",
       "      <th>4</th>\n",
       "      <td>User(88-stylus-MEDIUM) - Gesture(asterisk) - N...</td>\n",
       "      <td>0.0</td>\n",
       "    </tr>\n",
       "    <tr>\n",
       "      <th>...</th>\n",
       "      <td>...</td>\n",
       "      <td>...</td>\n",
       "    </tr>\n",
       "    <tr>\n",
       "      <th>1345</th>\n",
       "      <td>User(10-stylus-MEDIUM) - Gesture(five_point_st...</td>\n",
       "      <td>1.0</td>\n",
       "    </tr>\n",
       "    <tr>\n",
       "      <th>1346</th>\n",
       "      <td>User(10-stylus-MEDIUM) - Gesture(X) - No. of t...</td>\n",
       "      <td>0.0</td>\n",
       "    </tr>\n",
       "    <tr>\n",
       "      <th>1347</th>\n",
       "      <td>User(10-stylus-MEDIUM) - Gesture(D) - No. of t...</td>\n",
       "      <td>0.0</td>\n",
       "    </tr>\n",
       "    <tr>\n",
       "      <th>1348</th>\n",
       "      <td>User(10-stylus-MEDIUM) - Gesture(half_note) - ...</td>\n",
       "      <td>0.0</td>\n",
       "    </tr>\n",
       "    <tr>\n",
       "      <th>1349</th>\n",
       "      <td>User(10-stylus-MEDIUM) - Gesture(N) - No. of t...</td>\n",
       "      <td>0.7</td>\n",
       "    </tr>\n",
       "  </tbody>\n",
       "</table>\n",
       "<p>1350 rows × 2 columns</p>\n",
       "</div>"
      ],
      "text/plain": [
       "                                                      0    1\n",
       "0     User(88-stylus-MEDIUM) - Gesture(T) - No. of t...  0.0\n",
       "1     User(88-stylus-MEDIUM) - Gesture(line) - No. o...  0.4\n",
       "2     User(88-stylus-MEDIUM) - Gesture(arrowhead) - ...  0.9\n",
       "3     User(88-stylus-MEDIUM) - Gesture(P) - No. of t...  0.1\n",
       "4     User(88-stylus-MEDIUM) - Gesture(asterisk) - N...  0.0\n",
       "...                                                 ...  ...\n",
       "1345  User(10-stylus-MEDIUM) - Gesture(five_point_st...  1.0\n",
       "1346  User(10-stylus-MEDIUM) - Gesture(X) - No. of t...  0.0\n",
       "1347  User(10-stylus-MEDIUM) - Gesture(D) - No. of t...  0.0\n",
       "1348  User(10-stylus-MEDIUM) - Gesture(half_note) - ...  0.0\n",
       "1349  User(10-stylus-MEDIUM) - Gesture(N) - No. of t...  0.7\n",
       "\n",
       "[1350 rows x 2 columns]"
      ]
     },
     "execution_count": 82,
     "metadata": {},
     "output_type": "execute_result"
    }
   ],
   "source": [
    "df = pd.read_csv(path_multistroke, skiprows=13505, header=None)[:-1]\n",
    "df"
   ]
  },
  {
   "cell_type": "code",
   "execution_count": 83,
   "metadata": {},
   "outputs": [
    {
     "data": {
      "text/plain": [
       "[0.17400000000000002,\n",
       " 0.17333333333333337,\n",
       " 0.1726666666666667,\n",
       " 0.19200000000000003,\n",
       " 0.19799999999999995,\n",
       " 0.20000000000000004,\n",
       " 0.198,\n",
       " 0.19799999999999998,\n",
       " 0.204]"
      ]
     },
     "execution_count": 83,
     "metadata": {},
     "output_type": "execute_result"
    }
   ],
   "source": [
    "lst = df.values.tolist()\n",
    "accuracies = [[i[0].split('(')[-1][:-1], i[1]] for i in lst]\n",
    "# print(accuracies)\n",
    "final = [0] * 9\n",
    "for i in accuracies:\n",
    "    final[int(i[0])-1] += float(i[1])\n",
    "final_multistroke = [final[i]/150 for i in range(9)]\n",
    "final_multistroke"
   ]
  },
  {
   "cell_type": "code",
   "execution_count": 84,
   "metadata": {},
   "outputs": [
    {
     "data": {
      "text/html": [
       "<div>\n",
       "<style scoped>\n",
       "    .dataframe tbody tr th:only-of-type {\n",
       "        vertical-align: middle;\n",
       "    }\n",
       "\n",
       "    .dataframe tbody tr th {\n",
       "        vertical-align: top;\n",
       "    }\n",
       "\n",
       "    .dataframe thead th {\n",
       "        text-align: right;\n",
       "    }\n",
       "</style>\n",
       "<table border=\"1\" class=\"dataframe\">\n",
       "  <thead>\n",
       "    <tr style=\"text-align: right;\">\n",
       "      <th></th>\n",
       "      <th>0</th>\n",
       "      <th>1</th>\n",
       "    </tr>\n",
       "  </thead>\n",
       "  <tbody>\n",
       "    <tr>\n",
       "      <th>0</th>\n",
       "      <td>User(User06) - Gesture(T) - No. of training ex...</td>\n",
       "      <td>0.0</td>\n",
       "    </tr>\n",
       "    <tr>\n",
       "      <th>1</th>\n",
       "      <td>User(User06) - Gesture(line) - No. of training...</td>\n",
       "      <td>1.0</td>\n",
       "    </tr>\n",
       "    <tr>\n",
       "      <th>2</th>\n",
       "      <td>User(User06) - Gesture(arrowhead) - No. of tra...</td>\n",
       "      <td>0.0</td>\n",
       "    </tr>\n",
       "    <tr>\n",
       "      <th>3</th>\n",
       "      <td>User(User06) - Gesture(P) - No. of training ex...</td>\n",
       "      <td>0.0</td>\n",
       "    </tr>\n",
       "    <tr>\n",
       "      <th>4</th>\n",
       "      <td>User(User06) - Gesture(asterisk) - No. of trai...</td>\n",
       "      <td>0.0</td>\n",
       "    </tr>\n",
       "    <tr>\n",
       "      <th>...</th>\n",
       "      <td>...</td>\n",
       "      <td>...</td>\n",
       "    </tr>\n",
       "    <tr>\n",
       "      <th>805</th>\n",
       "      <td>User(User03) - Gesture(five_point_star) - No. ...</td>\n",
       "      <td>1.0</td>\n",
       "    </tr>\n",
       "    <tr>\n",
       "      <th>806</th>\n",
       "      <td>User(User03) - Gesture(X) - No. of training ex...</td>\n",
       "      <td>0.0</td>\n",
       "    </tr>\n",
       "    <tr>\n",
       "      <th>807</th>\n",
       "      <td>User(User03) - Gesture(D) - No. of training ex...</td>\n",
       "      <td>0.0</td>\n",
       "    </tr>\n",
       "    <tr>\n",
       "      <th>808</th>\n",
       "      <td>User(User03) - Gesture(half_note) - No. of tra...</td>\n",
       "      <td>0.0</td>\n",
       "    </tr>\n",
       "    <tr>\n",
       "      <th>809</th>\n",
       "      <td>User(User03) - Gesture(N) - No. of training ex...</td>\n",
       "      <td>0.0</td>\n",
       "    </tr>\n",
       "  </tbody>\n",
       "</table>\n",
       "<p>810 rows × 2 columns</p>\n",
       "</div>"
      ],
      "text/plain": [
       "                                                     0    1\n",
       "0    User(User06) - Gesture(T) - No. of training ex...  0.0\n",
       "1    User(User06) - Gesture(line) - No. of training...  1.0\n",
       "2    User(User06) - Gesture(arrowhead) - No. of tra...  0.0\n",
       "3    User(User06) - Gesture(P) - No. of training ex...  0.0\n",
       "4    User(User06) - Gesture(asterisk) - No. of trai...  0.0\n",
       "..                                                 ...  ...\n",
       "805  User(User03) - Gesture(five_point_star) - No. ...  1.0\n",
       "806  User(User03) - Gesture(X) - No. of training ex...  0.0\n",
       "807  User(User03) - Gesture(D) - No. of training ex...  0.0\n",
       "808  User(User03) - Gesture(half_note) - No. of tra...  0.0\n",
       "809  User(User03) - Gesture(N) - No. of training ex...  0.0\n",
       "\n",
       "[810 rows x 2 columns]"
      ]
     },
     "execution_count": 84,
     "metadata": {},
     "output_type": "execute_result"
    }
   ],
   "source": [
    "df = pd.read_csv(path_new_multistroke, skiprows=815, header=None)[:-1]\n",
    "df"
   ]
  },
  {
   "cell_type": "code",
   "execution_count": 87,
   "metadata": {},
   "outputs": [
    {
     "data": {
      "text/plain": [
       "[0.12222222222222222,\n",
       " 0.13333333333333333,\n",
       " 0.14444444444444443,\n",
       " 0.17777777777777778,\n",
       " 0.14444444444444443,\n",
       " 0.16666666666666666,\n",
       " 0.17777777777777778,\n",
       " 0.14444444444444443,\n",
       " 0.13333333333333333]"
      ]
     },
     "execution_count": 87,
     "metadata": {},
     "output_type": "execute_result"
    }
   ],
   "source": [
    "lst = df.values.tolist()\n",
    "accuracies = [[i[0].split('(')[-1][:-1], i[1]] for i in lst]\n",
    "# print(accuracies)\n",
    "final = [0] * 9\n",
    "for i in accuracies:\n",
    "    final[int(i[0])-1] += float(i[1])\n",
    "final_new_multistroke = [final[i]/90 for i in range(9)]\n",
    "final_new_multistroke"
   ]
  },
  {
   "cell_type": "code",
   "execution_count": 88,
   "metadata": {},
   "outputs": [
    {
     "data": {
      "image/png": "[encoded data removed]",
      "text/plain": [
       "<Figure size 640x480 with 1 Axes>"
      ]
     },
     "metadata": {},
     "output_type": "display_data"
    }
   ],
   "source": [
    "plt.plot([i+1 for i in range(9)], final_unistroke, label='Unistroke ($1)', marker='o')\n",
    "plt.plot([i+1 for i in range(9)], final_new_unistroke, label='Unistroke (Collected)', marker='^')\n",
    "plt.plot([i+1 for i in range(9)], final_multistroke, label='Multistroke ($N)', marker='s')\n",
    "plt.plot([i+1 for i in range(9)], final_new_multistroke, label='Multistroke (Collected)', marker='x')\n",
    "plt.legend()\n",
    "plt.xlabel('Number of Templates / Training Examples')   \n",
    "plt.ylabel('Accuracy')\n",
    "plt.title('Accuracy vs Number of Templates')\n",
    "# plt.ylim(0.92, 1)\n",
    "plt.show()"
   ]
  },
  {
   "cell_type": "code",
   "execution_count": null,
   "metadata": {},
   "outputs": [],
   "source": []
  }
 ],
 "metadata": {
  "kernelspec": {
   "display_name": "Python 3",
   "language": "python",
   "name": "python3"
  },
  "language_info": {
   "codemirror_mode": {
    "name": "ipython",
    "version": 3
   },
   "file_extension": ".py",
   "mimetype": "text/x-python",
   "name": "python",
   "nbconvert_exporter": "python",
   "pygments_lexer": "ipython3",
   "version": "3.11.1"
  },
  "orig_nbformat": 4
 },
 "nbformat": 4,
 "nbformat_minor": 2
}
