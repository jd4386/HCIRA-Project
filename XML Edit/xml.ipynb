{
 "cells": [
  {
   "cell_type": "code",
   "execution_count": 1,
   "metadata": {},
   "outputs": [],
   "source": [
    "import os\n",
    "import xml.etree.ElementTree as ET\n",
    "import xml.dom.minidom"
   ]
  },
  {
   "cell_type": "code",
   "execution_count": 2,
   "metadata": {},
   "outputs": [],
   "source": [
    "path = 'custom_xml_logs/'\n",
    "new_path = 'edited_custom_xml_logs/'"
   ]
  },
  {
   "cell_type": "code",
   "execution_count": 3,
   "metadata": {},
   "outputs": [],
   "source": [
    "getPointsFromRoot = lambda gesture : [[int(point.attrib['X']), int(point.attrib['Y'])] for point in gesture]"
   ]
  },
  {
   "cell_type": "code",
   "execution_count": 4,
   "metadata": {},
   "outputs": [],
   "source": [
    "Gestures = [\n",
    "    'triangle',\n",
    "    'x',\n",
    "    'rectangle',\n",
    "    'circle',\n",
    "    'check',\n",
    "    'caret',\n",
    "    'zig-zag',\n",
    "    'arrow',\n",
    "    'left_sq_bracket',\n",
    "    'right_sq_bracket',\n",
    "    'v',\n",
    "    'delete_mark',\n",
    "    'left_curly_brace',\n",
    "    'right_curly_brace',\n",
    "    'star',\n",
    "    'pigtail',\n",
    "]"
   ]
  },
  {
   "cell_type": "code",
   "execution_count": 8,
   "metadata": {},
   "outputs": [],
   "source": [
    "def saveToXML(name, gesture_count, points, DatasetPath, CurrentUser):\n",
    "    finalPath = os.path.join(DatasetPath, CurrentUser, name + f'{gesture_count:02d}.xml')\n",
    "\n",
    "    root = ET.Element('Gesture', attrib={\n",
    "        'Name': f'{name}{gesture_count:02d}',\n",
    "        'Subject': str(int(CurrentUser[4:])),\n",
    "        'Number': str(gesture_count),\n",
    "        'NumPts': str(len(points))\n",
    "    })\n",
    "\n",
    "    for point in points:\n",
    "        ET.SubElement(root, 'Point', X=str(point[0]), Y=str(point[1]), T='0')\n",
    "    \n",
    "    pretty_xml = xml.dom.minidom.parseString(ET.tostring(root)).toprettyxml(indent=\"    \")\n",
    "\n",
    "    with open(finalPath, 'w') as f:\n",
    "        f.write(pretty_xml)"
   ]
  },
  {
   "cell_type": "code",
   "execution_count": 10,
   "metadata": {},
   "outputs": [],
   "source": [
    "for user in range(1, 7):\n",
    "    os.makedirs(os.path.join(new_path, f'User{user:02d}'))\n",
    "    for gesture in Gestures:\n",
    "        for gcount in range(1, 11):\n",
    "            root = ET.parse(os.path.join(path, f'User{user:02d}', gesture + f'{gcount:02d}.xml')).getroot()\n",
    "            points = getPointsFromRoot(root)\n",
    "            saveToXML(gesture, gcount, points, new_path, f'User{user:02d}')"
   ]
  },
  {
   "cell_type": "code",
   "execution_count": null,
   "metadata": {},
   "outputs": [],
   "source": []
  }
 ],
 "metadata": {
  "kernelspec": {
   "display_name": "Python 3",
   "language": "python",
   "name": "python3"
  },
  "language_info": {
   "codemirror_mode": {
    "name": "ipython",
    "version": 3
   },
   "file_extension": ".py",
   "mimetype": "text/x-python",
   "name": "python",
   "nbconvert_exporter": "python",
   "pygments_lexer": "ipython3",
   "version": "3.11.1"
  },
  "orig_nbformat": 4
 },
 "nbformat": 4,
 "nbformat_minor": 2
}
