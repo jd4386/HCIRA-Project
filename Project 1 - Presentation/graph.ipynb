{
 "cells": [
  {
   "cell_type": "code",
   "execution_count": 72,
   "metadata": {},
   "outputs": [],
   "source": [
    "path = '/Users/jagan/Downloads/HCIRA Project/Part 3 (Update)/HCIRA-Proj1-logfile (Updated).csv'\n",
    "path5 = '/Users/jagan/Downloads/HCIRA Project/Part 5/HCIRA-Proj1-logfile.csv'"
   ]
  },
  {
   "cell_type": "code",
   "execution_count": 73,
   "metadata": {},
   "outputs": [],
   "source": [
    "import pandas as pd\n",
    "import numpy as np\n",
    "import matplotlib.pyplot as plt\n",
    "import seaborn as sns"
   ]
  },
  {
   "cell_type": "code",
   "execution_count": 74,
   "metadata": {},
   "outputs": [
    {
     "data": {
      "text/html": [
       "<div>\n",
       "<style scoped>\n",
       "    .dataframe tbody tr th:only-of-type {\n",
       "        vertical-align: middle;\n",
       "    }\n",
       "\n",
       "    .dataframe tbody tr th {\n",
       "        vertical-align: top;\n",
       "    }\n",
       "\n",
       "    .dataframe thead th {\n",
       "        text-align: right;\n",
       "    }\n",
       "</style>\n",
       "<table border=\"1\" class=\"dataframe\">\n",
       "  <thead>\n",
       "    <tr style=\"text-align: right;\">\n",
       "      <th></th>\n",
       "      <th>0</th>\n",
       "      <th>1</th>\n",
       "    </tr>\n",
       "  </thead>\n",
       "  <tbody>\n",
       "    <tr>\n",
       "      <th>0</th>\n",
       "      <td>User(s02) - Speed(medium) - Gesture(delete_mar...</td>\n",
       "      <td>1.0</td>\n",
       "    </tr>\n",
       "    <tr>\n",
       "      <th>1</th>\n",
       "      <td>User(s02) - Speed(medium) - Gesture(right_sq_b...</td>\n",
       "      <td>1.0</td>\n",
       "    </tr>\n",
       "    <tr>\n",
       "      <th>2</th>\n",
       "      <td>User(s02) - Speed(medium) - Gesture(triangle) ...</td>\n",
       "      <td>1.0</td>\n",
       "    </tr>\n",
       "    <tr>\n",
       "      <th>3</th>\n",
       "      <td>User(s02) - Speed(medium) - Gesture(right_curl...</td>\n",
       "      <td>1.0</td>\n",
       "    </tr>\n",
       "    <tr>\n",
       "      <th>4</th>\n",
       "      <td>User(s02) - Speed(medium) - Gesture(star) - No...</td>\n",
       "      <td>1.0</td>\n",
       "    </tr>\n",
       "    <tr>\n",
       "      <th>...</th>\n",
       "      <td>...</td>\n",
       "      <td>...</td>\n",
       "    </tr>\n",
       "    <tr>\n",
       "      <th>1435</th>\n",
       "      <td>User(s11) - Speed(medium) - Gesture(v) - No. o...</td>\n",
       "      <td>1.0</td>\n",
       "    </tr>\n",
       "    <tr>\n",
       "      <th>1436</th>\n",
       "      <td>User(s11) - Speed(medium) - Gesture(check) - N...</td>\n",
       "      <td>1.0</td>\n",
       "    </tr>\n",
       "    <tr>\n",
       "      <th>1437</th>\n",
       "      <td>User(s11) - Speed(medium) - Gesture(rectangle)...</td>\n",
       "      <td>1.0</td>\n",
       "    </tr>\n",
       "    <tr>\n",
       "      <th>1438</th>\n",
       "      <td>User(s11) - Speed(medium) - Gesture(left_curly...</td>\n",
       "      <td>1.0</td>\n",
       "    </tr>\n",
       "    <tr>\n",
       "      <th>1439</th>\n",
       "      <td>User(s11) - Speed(medium) - Gesture(arrow) - N...</td>\n",
       "      <td>1.0</td>\n",
       "    </tr>\n",
       "  </tbody>\n",
       "</table>\n",
       "<p>1440 rows × 2 columns</p>\n",
       "</div>"
      ],
      "text/plain": [
       "                                                      0    1\n",
       "0     User(s02) - Speed(medium) - Gesture(delete_mar...  1.0\n",
       "1     User(s02) - Speed(medium) - Gesture(right_sq_b...  1.0\n",
       "2     User(s02) - Speed(medium) - Gesture(triangle) ...  1.0\n",
       "3     User(s02) - Speed(medium) - Gesture(right_curl...  1.0\n",
       "4     User(s02) - Speed(medium) - Gesture(star) - No...  1.0\n",
       "...                                                 ...  ...\n",
       "1435  User(s11) - Speed(medium) - Gesture(v) - No. o...  1.0\n",
       "1436  User(s11) - Speed(medium) - Gesture(check) - N...  1.0\n",
       "1437  User(s11) - Speed(medium) - Gesture(rectangle)...  1.0\n",
       "1438  User(s11) - Speed(medium) - Gesture(left_curly...  1.0\n",
       "1439  User(s11) - Speed(medium) - Gesture(arrow) - N...  1.0\n",
       "\n",
       "[1440 rows x 2 columns]"
      ]
     },
     "execution_count": 74,
     "metadata": {},
     "output_type": "execute_result"
    }
   ],
   "source": [
    "df = pd.read_csv(path, skiprows=10*9*10*16+5, header=None)\n",
    "df"
   ]
  },
  {
   "cell_type": "code",
   "execution_count": 75,
   "metadata": {},
   "outputs": [],
   "source": [
    "lst = df.values.tolist()"
   ]
  },
  {
   "cell_type": "code",
   "execution_count": 76,
   "metadata": {},
   "outputs": [],
   "source": [
    "accuracies = [[i[0].split('(')[-1][:-1], i[1]] for i in lst]"
   ]
  },
  {
   "cell_type": "code",
   "execution_count": 77,
   "metadata": {},
   "outputs": [],
   "source": [
    "final = [0] * 9\n",
    "for i in accuracies:\n",
    "    final[int(i[0])-1] += float(i[1])"
   ]
  },
  {
   "cell_type": "code",
   "execution_count": 78,
   "metadata": {},
   "outputs": [],
   "source": [
    "final3 = [final[i]/160 for i in range(9)]"
   ]
  },
  {
   "cell_type": "code",
   "execution_count": 82,
   "metadata": {},
   "outputs": [
    {
     "data": {
      "text/plain": [
       "[0.9781250000000004,\n",
       " 0.9912500000000002,\n",
       " 0.9925,\n",
       " 0.9956250000000001,\n",
       " 0.9962500000000001,\n",
       " 0.9956250000000001,\n",
       " 0.99375,\n",
       " 0.9943750000000001,\n",
       " 0.9943750000000001]"
      ]
     },
     "execution_count": 82,
     "metadata": {},
     "output_type": "execute_result"
    }
   ],
   "source": [
    "final3"
   ]
  },
  {
   "cell_type": "code",
   "execution_count": 79,
   "metadata": {},
   "outputs": [
    {
     "data": {
      "text/html": [
       "<div>\n",
       "<style scoped>\n",
       "    .dataframe tbody tr th:only-of-type {\n",
       "        vertical-align: middle;\n",
       "    }\n",
       "\n",
       "    .dataframe tbody tr th {\n",
       "        vertical-align: top;\n",
       "    }\n",
       "\n",
       "    .dataframe thead th {\n",
       "        text-align: right;\n",
       "    }\n",
       "</style>\n",
       "<table border=\"1\" class=\"dataframe\">\n",
       "  <thead>\n",
       "    <tr style=\"text-align: right;\">\n",
       "      <th></th>\n",
       "      <th>0</th>\n",
       "      <th>1</th>\n",
       "    </tr>\n",
       "  </thead>\n",
       "  <tbody>\n",
       "    <tr>\n",
       "      <th>0</th>\n",
       "      <td>User(01) - Gesture(delete_mark) - No. of train...</td>\n",
       "      <td>1.0</td>\n",
       "    </tr>\n",
       "    <tr>\n",
       "      <th>1</th>\n",
       "      <td>User(01) - Gesture(right_sq_bracket) - No. of ...</td>\n",
       "      <td>1.0</td>\n",
       "    </tr>\n",
       "    <tr>\n",
       "      <th>2</th>\n",
       "      <td>User(01) - Gesture(triangle) - No. of training...</td>\n",
       "      <td>1.0</td>\n",
       "    </tr>\n",
       "    <tr>\n",
       "      <th>3</th>\n",
       "      <td>User(01) - Gesture(right_curly_brace) - No. of...</td>\n",
       "      <td>0.8</td>\n",
       "    </tr>\n",
       "    <tr>\n",
       "      <th>4</th>\n",
       "      <td>User(01) - Gesture(star) - No. of training exa...</td>\n",
       "      <td>1.0</td>\n",
       "    </tr>\n",
       "    <tr>\n",
       "      <th>...</th>\n",
       "      <td>...</td>\n",
       "      <td>...</td>\n",
       "    </tr>\n",
       "    <tr>\n",
       "      <th>859</th>\n",
       "      <td>User(06) - Gesture(v) - No. of training exampl...</td>\n",
       "      <td>1.0</td>\n",
       "    </tr>\n",
       "    <tr>\n",
       "      <th>860</th>\n",
       "      <td>User(06) - Gesture(check) - No. of training ex...</td>\n",
       "      <td>1.0</td>\n",
       "    </tr>\n",
       "    <tr>\n",
       "      <th>861</th>\n",
       "      <td>User(06) - Gesture(rectangle) - No. of trainin...</td>\n",
       "      <td>1.0</td>\n",
       "    </tr>\n",
       "    <tr>\n",
       "      <th>862</th>\n",
       "      <td>User(06) - Gesture(left_curly_brace) - No. of ...</td>\n",
       "      <td>1.0</td>\n",
       "    </tr>\n",
       "    <tr>\n",
       "      <th>863</th>\n",
       "      <td>User(06) - Gesture(arrow) - No. of training ex...</td>\n",
       "      <td>1.0</td>\n",
       "    </tr>\n",
       "  </tbody>\n",
       "</table>\n",
       "<p>864 rows × 2 columns</p>\n",
       "</div>"
      ],
      "text/plain": [
       "                                                     0    1\n",
       "0    User(01) - Gesture(delete_mark) - No. of train...  1.0\n",
       "1    User(01) - Gesture(right_sq_bracket) - No. of ...  1.0\n",
       "2    User(01) - Gesture(triangle) - No. of training...  1.0\n",
       "3    User(01) - Gesture(right_curly_brace) - No. of...  0.8\n",
       "4    User(01) - Gesture(star) - No. of training exa...  1.0\n",
       "..                                                 ...  ...\n",
       "859  User(06) - Gesture(v) - No. of training exampl...  1.0\n",
       "860  User(06) - Gesture(check) - No. of training ex...  1.0\n",
       "861  User(06) - Gesture(rectangle) - No. of trainin...  1.0\n",
       "862  User(06) - Gesture(left_curly_brace) - No. of ...  1.0\n",
       "863  User(06) - Gesture(arrow) - No. of training ex...  1.0\n",
       "\n",
       "[864 rows x 2 columns]"
      ]
     },
     "execution_count": 79,
     "metadata": {},
     "output_type": "execute_result"
    }
   ],
   "source": [
    "df = pd.read_csv(path5, skiprows=6*9*10*16+5, header=None)[:-1]\n",
    "df"
   ]
  },
  {
   "cell_type": "code",
   "execution_count": 80,
   "metadata": {},
   "outputs": [],
   "source": [
    "lst = df.values.tolist()\n",
    "accuracies = [[i[0].split('(')[-1][:-1], i[1]] for i in lst]\n",
    "final = [0] * 9\n",
    "for i in accuracies:\n",
    "    final[int(i[0])-1] += float(i[1])\n",
    "final5 = [final[i]/96 for i in range(9)]"
   ]
  },
  {
   "cell_type": "code",
   "execution_count": 81,
   "metadata": {},
   "outputs": [
    {
     "data": {
      "text/plain": [
       "[0.9458333333333337,\n",
       " 0.9770833333333333,\n",
       " 0.9854166666666666,\n",
       " 0.9854166666666666,\n",
       " 0.9916666666666666,\n",
       " 0.9958333333333332,\n",
       " 0.9916666666666666,\n",
       " 0.9947916666666666,\n",
       " 0.9947916666666666]"
      ]
     },
     "execution_count": 81,
     "metadata": {},
     "output_type": "execute_result"
    }
   ],
   "source": [
    "final5"
   ]
  },
  {
   "cell_type": "code",
   "execution_count": 92,
   "metadata": {},
   "outputs": [
    {
     "data": {
      "image/png": "[encoded data removed]",
      "text/plain": [
       "<Figure size 640x480 with 1 Axes>"
      ]
     },
     "metadata": {},
     "output_type": "display_data"
    }
   ],
   "source": [
    "plt.plot([i+1 for i in range(9)], final3, label='Part 3', marker='o')\n",
    "plt.plot([i+1 for i in range(9)], final5, label='Part 5', marker='^')\n",
    "plt.legend()\n",
    "plt.xlabel('Number of Templates / Training Examples')   \n",
    "plt.ylabel('Accuracy')\n",
    "plt.title('Accuracy vs Number of Templates')\n",
    "plt.ylim(0.92, 1)\n",
    "plt.show()"
   ]
  },
  {
   "cell_type": "code",
   "execution_count": null,
   "metadata": {},
   "outputs": [],
   "source": []
  }
 ],
 "metadata": {
  "kernelspec": {
   "display_name": "Python 3",
   "language": "python",
   "name": "python3"
  },
  "language_info": {
   "codemirror_mode": {
    "name": "ipython",
    "version": 3
   },
   "file_extension": ".py",
   "mimetype": "text/x-python",
   "name": "python",
   "nbconvert_exporter": "python",
   "pygments_lexer": "ipython3",
   "version": "3.11.1"
  },
  "orig_nbformat": 4
 },
 "nbformat": 4,
 "nbformat_minor": 2
}
